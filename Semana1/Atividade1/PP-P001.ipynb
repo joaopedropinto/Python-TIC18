{
 "cells": [
  {
   "cell_type": "markdown",
   "id": "07edec63",
   "metadata": {},
   "source": [
    "# João Pedro de Gois Pinto - PP-P001 - T2"
   ]
  },
  {
   "cell_type": "markdown",
   "id": "9dd1cfa1",
   "metadata": {},
   "source": [
    "Aqui estarei fazendo a atividade PP-P001 de Python, Turma 2."
   ]
  },
  {
   "cell_type": "markdown",
   "id": "737d6268",
   "metadata": {},
   "source": [
    "Exercício 2:  Manipulação de variáveis de tipo inteiro, explorando as características e os limites."
   ]
  },
  {
   "cell_type": "markdown",
   "id": "caa553e9",
   "metadata": {},
   "source": [
    "Q: Demonstre como funcionam os operadores aritméticos e aritméticos compostos em Python e destaque as principais novidades e diferenças em relação ao conjunto de operadores com inteiros disponíveis em C/C++ ;"
   ]
  },
  {
   "cell_type": "code",
   "execution_count": null,
   "id": "17eb24da",
   "metadata": {},
   "outputs": [],
   "source": []
  },
  {
   "cell_type": "markdown",
   "id": "b7e8c4f7",
   "metadata": {},
   "source": [
    "Q: Demonstre a possibilidade de representar números inteiros significativamente grandes calculando o fatorial de 30 e comparando o resultado com o maior valor inteiro que pode ser representado em C/C++;\n"
   ]
  },
  {
   "cell_type": "code",
   "execution_count": 15,
   "id": "47afb9b7",
   "metadata": {},
   "outputs": [
    {
     "name": "stdout",
     "output_type": "stream",
     "text": [
      "O fatorial de 30 é:  8841761993739701954543616000000\n"
     ]
    }
   ],
   "source": [
    "# Calculando o fatorial de 30\n",
    "fat = 1\n",
    "for i in range(1,30):\n",
    "    fat *= i\n",
    "\n",
    "print(\"O fatorial de 30 é: \",fat)"
   ]
  },
  {
   "cell_type": "markdown",
   "id": "98f8b2e9",
   "metadata": {},
   "source": [
    "R: Em contrapartida, em C++ essa mesma operação utilizando uma variável do tipo int resulta no valor \"1409286144\" dado a limitação no valor nativo para inteiros presente na linguagem. Já em Python, podemos perceber que o número não possui limite, enquanto houver memória disponível."
   ]
  },
  {
   "cell_type": "markdown",
   "id": "4aa8d867",
   "metadata": {},
   "source": [
    "Q: As variáveis numéricas são imutáveis. Demonstre com exemplos as implicações desta afirmação;"
   ]
  },
  {
   "cell_type": "code",
   "execution_count": 17,
   "id": "2c78afb8",
   "metadata": {},
   "outputs": [
    {
     "name": "stdout",
     "output_type": "stream",
     "text": [
      "Os valores são os mesmos: \n",
      "aux1 =  5\n",
      "aux2 =  5\n",
      "Alterando o valor de aux1...\n",
      "Agora\n",
      "aux1 =  10\n",
      "Mas aux2 não mudou...\n",
      "aux2 =  5\n"
     ]
    }
   ],
   "source": [
    "# Exemplo de variáveis imutáveis\n",
    "aux1 = 5 # aux1 referencia um inteiro\n",
    "aux2 = aux1 # aux2 referencia o mesmo espaço na memória\n",
    "print(\"Os valores são os mesmos: \")\n",
    "print(\"aux1 = \", aux1)\n",
    "print(\"aux2 = \", aux2)\n",
    "print(\"Alterando o valor de aux1...\")\n",
    "aux1+=5\n",
    "print(\"Agora\")\n",
    "print(\"aux1 = \", aux1)\n",
    "print(\"Mas aux2 não mudou...\")\n",
    "print(\"aux2 = \", aux2)"
   ]
  },
  {
   "cell_type": "markdown",
   "id": "80ef3be8",
   "metadata": {},
   "source": [
    "Isso demonstra como mesmo as variáveis sendo objetos e estarem apontando para o mesmo espaço de memória, ao alterar uma das variáveis, no caso, aux1, ela aponta para um novo endereço de memória com o seu novo valor, o que faz com que o valor de aux2 não seja alterado."
   ]
  },
  {
   "cell_type": "markdown",
   "id": "4295fa3c",
   "metadata": {},
   "source": [
    "Q: Verifique quais métodos estão disponíveis para as variáveis inteiras;"
   ]
  }
 ],
 "metadata": {
  "kernelspec": {
   "display_name": "Python 3 (ipykernel)",
   "language": "python",
   "name": "python3"
  },
  "language_info": {
   "codemirror_mode": {
    "name": "ipython",
    "version": 3
   },
   "file_extension": ".py",
   "mimetype": "text/x-python",
   "name": "python",
   "nbconvert_exporter": "python",
   "pygments_lexer": "ipython3",
   "version": "3.11.5"
  }
 },
 "nbformat": 4,
 "nbformat_minor": 5
}
