{
 "cells": [
  {
   "cell_type": "markdown",
   "id": "a65a487b",
   "metadata": {},
   "source": [
    "# João Pedro de Gois Pinto - PP-P001 - T2"
   ]
  },
  {
   "cell_type": "markdown",
   "id": "9dd1cfa1",
   "metadata": {},
   "source": [
    "Aqui estarei fazendo a atividade PP-P001 de Python, Turma 2."
   ]
  },
  {
   "cell_type": "markdown",
   "id": "7272695a",
   "metadata": {},
   "source": [
    "### Exercício 2:  Manipulação de variáveis de tipo inteiro, explorando as características e os limites."
   ]
  },
  {
   "cell_type": "markdown",
   "id": "12255270",
   "metadata": {},
   "source": [
    "Q: Demonstre como funcionam os operadores aritméticos e aritméticos compostos em Python e destaque as principais novidades e diferenças em relação ao conjunto de operadores com inteiros disponíveis em C/C++ ;"
   ]
  },
  {
   "cell_type": "code",
   "execution_count": 31,
   "id": "2f103eed",
   "metadata": {},
   "outputs": [
    {
     "name": "stdout",
     "output_type": "stream",
     "text": [
      "100\n",
      "102\n",
      "100\n",
      "7.5\n",
      "7\n",
      "14\n",
      "2744\n",
      "2\n"
     ]
    }
   ],
   "source": [
    "#Exemplo de operadores aritméticos\n",
    "\n",
    "a = 100\n",
    "print(a)\n",
    "a = a + 2\n",
    "print(a)\n",
    "a = a - 2\n",
    "print(a)\n",
    "a = 15\n",
    "a = a / 2\n",
    "print(a)\n",
    "# Em python, a divisão entre inteiros pode resultar num número float, diferente de c++, se não deseja a parte fracionária\n",
    "# precisa usar o operador //, como exemplificado a seguir\n",
    "a = 15\n",
    "a = a // 2\n",
    "print(a)\n",
    "a = a * 2\n",
    "print(a)\n",
    "a = a ** 3\n",
    "print(a)\n",
    "a = a % 3\n",
    "print(a)"
   ]
  },
  {
   "cell_type": "code",
   "execution_count": 33,
   "id": "ffdf6e7c",
   "metadata": {},
   "outputs": [
    {
     "name": "stdout",
     "output_type": "stream",
     "text": [
      "100\n",
      "105\n",
      "101\n",
      "808\n",
      "115.42857142857143\n",
      "28.0\n",
      "3.0\n",
      "9.0\n"
     ]
    }
   ],
   "source": [
    "#Exemplo de operadores aritméticos compostos\n",
    "a = 100\n",
    "print(a)\n",
    "a += 5 \n",
    "print(a)\n",
    "a -= 4  \n",
    "print(a)\n",
    "a *= 8 \n",
    "print(a)\n",
    "a /= 7  \n",
    "print(a)\n",
    "a //= 4 \n",
    "print(a)\n",
    "a %= 5 \n",
    "print(a)\n",
    "a **= 2 \n",
    "print(a)"
   ]
  },
  {
   "cell_type": "markdown",
   "id": "9dcc4dd5",
   "metadata": {},
   "source": [
    "R: Além das diferenças citadas no comportamento das divisões utilizando / e //, há também a questão que os operadores aritméticos podem ser utilizados com dados de qualquer tipagem, e não apenas numerais."
   ]
  },
  {
   "cell_type": "markdown",
   "id": "b7e8c4f7",
   "metadata": {},
   "source": [
    "Q: Demonstre a possibilidade de representar números inteiros significativamente grandes calculando o fatorial de 30 e comparando o resultado com o maior valor inteiro que pode ser representado em C/C++;\n"
   ]
  },
  {
   "cell_type": "code",
   "execution_count": 15,
   "id": "9bc495f5",
   "metadata": {},
   "outputs": [
    {
     "name": "stdout",
     "output_type": "stream",
     "text": [
      "O fatorial de 30 é:  8841761993739701954543616000000\n"
     ]
    }
   ],
   "source": [
    "# Calculando o fatorial de 30\n",
    "fat = 1\n",
    "for i in range(1,30):\n",
    "    fat *= i\n",
    "\n",
    "print(\"O fatorial de 30 é: \",fat)"
   ]
  },
  {
   "cell_type": "markdown",
   "id": "c3c2a54b",
   "metadata": {},
   "source": [
    "R: Em contrapartida, em C++ essa mesma operação utilizando uma variável do tipo int resulta no valor \"1409286144\" dado a limitação no valor nativo para inteiros presente na linguagem. Já em Python, podemos perceber que o número não possui limite, enquanto houver memória disponível."
   ]
  },
  {
   "cell_type": "markdown",
   "id": "51e7e4a0",
   "metadata": {},
   "source": [
    "Q: As variáveis numéricas são imutáveis. Demonstre com exemplos as implicações desta afirmação;"
   ]
  },
  {
   "cell_type": "code",
   "execution_count": 17,
   "id": "38ebc12d",
   "metadata": {},
   "outputs": [
    {
     "name": "stdout",
     "output_type": "stream",
     "text": [
      "Os valores são os mesmos: \n",
      "aux1 =  5\n",
      "aux2 =  5\n",
      "Alterando o valor de aux1...\n",
      "Agora\n",
      "aux1 =  10\n",
      "Mas aux2 não mudou...\n",
      "aux2 =  5\n"
     ]
    }
   ],
   "source": [
    "# Exemplo de variáveis imutáveis\n",
    "aux1 = 5 # aux1 referencia um inteiro\n",
    "aux2 = aux1 # aux2 referencia o mesmo espaço na memória\n",
    "print(\"Os valores são os mesmos: \")\n",
    "print(\"aux1 = \", aux1)\n",
    "print(\"aux2 = \", aux2)\n",
    "print(\"Alterando o valor de aux1...\")\n",
    "aux1+=5\n",
    "print(\"Agora\")\n",
    "print(\"aux1 = \", aux1)\n",
    "print(\"Mas aux2 não mudou...\")\n",
    "print(\"aux2 = \", aux2)"
   ]
  },
  {
   "cell_type": "markdown",
   "id": "032849be",
   "metadata": {},
   "source": [
    "R: Isso demonstra como mesmo as variáveis sendo objetos e estarem apontando para o mesmo espaço de memória, ao alterar uma das variáveis, no caso, aux1, ela aponta para um novo endereço de memória com o seu novo valor, o que faz com que o valor de aux2 não seja alterado."
   ]
  },
  {
   "cell_type": "markdown",
   "id": "59517b63",
   "metadata": {},
   "source": [
    "Q: Verifique quais métodos estão disponíveis para as variáveis inteiras;"
   ]
  },
  {
   "cell_type": "code",
   "execution_count": 20,
   "id": "5a6bf9d2",
   "metadata": {},
   "outputs": [
    {
     "name": "stdout",
     "output_type": "stream",
     "text": [
      "['__abs__', '__add__', '__and__', '__bool__', '__ceil__', '__class__', '__delattr__', '__dir__', '__divmod__', '__doc__', '__eq__', '__float__', '__floor__', '__floordiv__', '__format__', '__ge__', '__getattribute__', '__getnewargs__', '__getstate__', '__gt__', '__hash__', '__index__', '__init__', '__init_subclass__', '__int__', '__invert__', '__le__', '__lshift__', '__lt__', '__mod__', '__mul__', '__ne__', '__neg__', '__new__', '__or__', '__pos__', '__pow__', '__radd__', '__rand__', '__rdivmod__', '__reduce__', '__reduce_ex__', '__repr__', '__rfloordiv__', '__rlshift__', '__rmod__', '__rmul__', '__ror__', '__round__', '__rpow__', '__rrshift__', '__rshift__', '__rsub__', '__rtruediv__', '__rxor__', '__setattr__', '__sizeof__', '__str__', '__sub__', '__subclasshook__', '__truediv__', '__trunc__', '__xor__', 'as_integer_ratio', 'bit_count', 'bit_length', 'conjugate', 'denominator', 'from_bytes', 'imag', 'numerator', 'real', 'to_bytes']\n"
     ]
    }
   ],
   "source": [
    "#Verificando os métodos para as variáveis inteiras.\n",
    "i = 10;\n",
    "print(dir(i))"
   ]
  },
  {
   "cell_type": "markdown",
   "id": "810cbf5f",
   "metadata": {},
   "source": [
    "R: Esse comando 'dir' lista os métodos e atributos possíveis de ser executados com a variável i, que é do tipo inteiro."
   ]
  },
  {
   "cell_type": "markdown",
   "id": "2ac3ed17",
   "metadata": {},
   "source": [
    "### Exercício 3: Manipulação de variáveis de tipo string e explorando o uso de print."
   ]
  },
  {
   "cell_type": "markdown",
   "id": "9ce3bf3c",
   "metadata": {},
   "source": [
    "Q: Imprima na tela, utilizando print, cada um dos caracteres numéricos e seu correspondente código numérico. Pesquise como modificar o comportamento do print para imprimir como caractere e como número."
   ]
  },
  {
   "cell_type": "code",
   "execution_count": 51,
   "id": "74015e3a",
   "metadata": {
    "scrolled": true
   },
   "outputs": [
    {
     "name": "stdout",
     "output_type": "stream",
     "text": [
      "chr - int\n",
      "'0' - 48\n",
      "'1' - 49\n",
      "'2' - 50\n",
      "'3' - 51\n",
      "'4' - 52\n",
      "'5' - 53\n",
      "'6' - 54\n",
      "'7' - 55\n",
      "'8' - 56\n",
      "'9' - 57\n"
     ]
    }
   ],
   "source": [
    "print(\"chr - int\")\n",
    "for i in range(10):\n",
    "    # Imprime como caractere\n",
    "    print(f\"'{chr(ord('0') + i)}' - {ord('0') + i}\")"
   ]
  },
  {
   "cell_type": "markdown",
   "id": "7d300ec5",
   "metadata": {},
   "source": [
    "Q: Modifique o exercício anterior para que a saída imprima também o código numérico em octal e em hexadecimal."
   ]
  },
  {
   "cell_type": "code",
   "execution_count": 52,
   "id": "5d47a245",
   "metadata": {},
   "outputs": [
    {
     "name": "stdout",
     "output_type": "stream",
     "text": [
      "chr - int - oct - hex\n",
      "'0' - 48 - 0o0 - 0x0\n",
      "'1' - 49 - 0o1 - 0x1\n",
      "'2' - 50 - 0o2 - 0x2\n",
      "'3' - 51 - 0o3 - 0x3\n",
      "'4' - 52 - 0o4 - 0x4\n",
      "'5' - 53 - 0o5 - 0x5\n",
      "'6' - 54 - 0o6 - 0x6\n",
      "'7' - 55 - 0o7 - 0x7\n",
      "'8' - 56 - 0o10 - 0x8\n",
      "'9' - 57 - 0o11 - 0x9\n"
     ]
    }
   ],
   "source": [
    "print(\"chr - int - oct - hex\")\n",
    "for i in range(10):\n",
    "    # Imprime como caractere\n",
    "    print(f\"'{chr(ord('0') + i)}' - {ord('0') + i} - {oct(i)} - {hex(i)}\")"
   ]
  },
  {
   "cell_type": "markdown",
   "id": "af227904",
   "metadata": {},
   "source": [
    "Q: Acrescente ao código do exercício anterior a possibilidade de ler um caractere qualquer e imprima no mesmo formato do inciso anterior. Pesquise como ler um valor da entrada padrão."
   ]
  },
  {
   "cell_type": "code",
   "execution_count": null,
   "id": "482b0116",
   "metadata": {},
   "outputs": [],
   "source": []
  },
  {
   "cell_type": "markdown",
   "id": "2eb11a66",
   "metadata": {},
   "source": [
    "Q: Pesquise como trabalha Python os caracteres especiais, ‘ç’ e ‘ã’ por exemplo. Acrescente no código do exercício anterior um exemplo que demonstra como usar este recurso"
   ]
  },
  {
   "cell_type": "code",
   "execution_count": null,
   "id": "f4f83bf9",
   "metadata": {},
   "outputs": [],
   "source": []
  },
  {
   "cell_type": "markdown",
   "id": "13161cd7",
   "metadata": {},
   "source": [
    "### Exercício 4: Manipulação de variáveis de tipo string e explorando os métodos da classe."
   ]
  },
  {
   "cell_type": "markdown",
   "id": "dd11eeb8",
   "metadata": {},
   "source": [
    "Q: Declare uma variável nome atribuindo a ela seu nome completo;\n",
    "\n",
    "Pesquise por funcionalidades já implementadas nas strings e separe em duas variáveis novas seu nome do seu sobrenome;\n",
    "\n",
    "Verifique qual das duas novas variáveis antecede a outra na ordem alfabética;\n",
    "\n",
    "Verifique a quantidade de caracteres de cada uma das novas variáveis;\n",
    "\n",
    "Verifique se seu nome é uma palíndromo;"
   ]
  },
  {
   "cell_type": "code",
   "execution_count": 71,
   "id": "7925cd06",
   "metadata": {},
   "outputs": [
    {
     "name": "stdout",
     "output_type": "stream",
     "text": [
      "Nome:  Joao Pedro\n",
      "Sobrenome:  Gois Pinto\n",
      "Sobrenome é menor\n",
      "Quantidade de caracteres em nome:  10\n",
      "Quantidade de caracteres em sobrenome:  10\n",
      "O nome é palídromo!\n"
     ]
    }
   ],
   "source": [
    "nome_completo = \"Joao Pedro de Gois Pinto\"\n",
    "nomes = nome_completo.split()\n",
    "nome = nomes[0] + \" \" + nomes[1]\n",
    "sobrenome = nomes[3] + \" \" + nomes[4] \n",
    "print(\"Nome: \", nome)\n",
    "print(\"Sobrenome: \",sobrenome)\n",
    "if(nome > sobrenome):\n",
    "    print(\"Sobrenome é menor\")\n",
    "else:\n",
    "    print(\"Nome é menor\")\n",
    "    \n",
    "print(\"Quantidade de caracteres em nome: \", len(nome))\n",
    "print(\"Quantidade de caracteres em sobrenome: \", len(sobrenome))\n",
    "\n",
    "palin = nome.replace(\" \", \"\").lower()\n",
    "if(palin == palin[::-1]):\n",
    "    print(\"O nome é palídromo!\")\n",
    "else:\n",
    "    print(\"O nome não é palíndromo!\")\n"
   ]
  },
  {
   "cell_type": "markdown",
   "id": "b0fb8bb8",
   "metadata": {},
   "source": [
    "### Exercício 5: Manipulação de variáveis de ponto flutuante, explorando as características e os limites."
   ]
  },
  {
   "cell_type": "code",
   "execution_count": null,
   "id": "cb7d5cfd",
   "metadata": {},
   "outputs": [],
   "source": []
  }
 ],
 "metadata": {
  "kernelspec": {
   "display_name": "Python 3 (ipykernel)",
   "language": "python",
   "name": "python3"
  },
  "language_info": {
   "codemirror_mode": {
    "name": "ipython",
    "version": 3
   },
   "file_extension": ".py",
   "mimetype": "text/x-python",
   "name": "python",
   "nbconvert_exporter": "python",
   "pygments_lexer": "ipython3",
   "version": "3.11.5"
  }
 },
 "nbformat": 4,
 "nbformat_minor": 5
}
